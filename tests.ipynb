{
 "cells": [
  {
   "cell_type": "code",
   "execution_count": 1,
   "metadata": {},
   "outputs": [],
   "source": [
    "import pandas as pd"
   ]
  },
  {
   "cell_type": "code",
   "execution_count": 2,
   "metadata": {},
   "outputs": [],
   "source": [
    "def padroniza(df,possibilities,field):\n",
    "    for row in possibilities:\n",
    "        for val in row[:-1]:\n",
    "            df.loc[df[field] == val, [field]] = row[-1]"
   ]
  },
  {
   "cell_type": "code",
   "execution_count": 3,
   "metadata": {},
   "outputs": [],
   "source": [
    "pacientes = pd.read_csv('dados/pacientes.csv')"
   ]
  },
  {
   "cell_type": "code",
   "execution_count": 4,
   "metadata": {},
   "outputs": [
    {
     "data": {
      "text/html": [
       "<div>\n",
       "<style scoped>\n",
       "    .dataframe tbody tr th:only-of-type {\n",
       "        vertical-align: middle;\n",
       "    }\n",
       "\n",
       "    .dataframe tbody tr th {\n",
       "        vertical-align: top;\n",
       "    }\n",
       "\n",
       "    .dataframe thead th {\n",
       "        text-align: right;\n",
       "    }\n",
       "</style>\n",
       "<table border=\"1\" class=\"dataframe\">\n",
       "  <thead>\n",
       "    <tr style=\"text-align: right;\">\n",
       "      <th></th>\n",
       "      <th>ID_Paciente</th>\n",
       "      <th>Sexo</th>\n",
       "      <th>Ano_Nascimento</th>\n",
       "      <th>Hospital</th>\n",
       "    </tr>\n",
       "  </thead>\n",
       "  <tbody>\n",
       "    <tr>\n",
       "      <th>0</th>\n",
       "      <td>1e5b27a1ca443075160da7be8a93f977038f277a</td>\n",
       "      <td>M</td>\n",
       "      <td>1978</td>\n",
       "      <td>Einstein</td>\n",
       "    </tr>\n",
       "    <tr>\n",
       "      <th>1</th>\n",
       "      <td>17435b27462b2e3824596f0b72c9646e15fba829</td>\n",
       "      <td>M</td>\n",
       "      <td>1982</td>\n",
       "      <td>Einstein</td>\n",
       "    </tr>\n",
       "    <tr>\n",
       "      <th>2</th>\n",
       "      <td>8b09117dc5e21e8b790296a8a4f5aa599ffe6eb8</td>\n",
       "      <td>F</td>\n",
       "      <td>1988</td>\n",
       "      <td>Einstein</td>\n",
       "    </tr>\n",
       "    <tr>\n",
       "      <th>3</th>\n",
       "      <td>0c275fa49e292b2f9a9bf9f7cbd83d1351fdd80f</td>\n",
       "      <td>M</td>\n",
       "      <td>1985</td>\n",
       "      <td>Einstein</td>\n",
       "    </tr>\n",
       "    <tr>\n",
       "      <th>4</th>\n",
       "      <td>b08928a65064fb16e2b2ce347949a485fc52cd75</td>\n",
       "      <td>M</td>\n",
       "      <td>1973</td>\n",
       "      <td>Einstein</td>\n",
       "    </tr>\n",
       "  </tbody>\n",
       "</table>\n",
       "</div>"
      ],
      "text/plain": [
       "                                ID_Paciente Sexo Ano_Nascimento  Hospital\n",
       "0  1e5b27a1ca443075160da7be8a93f977038f277a    M           1978  Einstein\n",
       "1  17435b27462b2e3824596f0b72c9646e15fba829    M           1982  Einstein\n",
       "2  8b09117dc5e21e8b790296a8a4f5aa599ffe6eb8    F           1988  Einstein\n",
       "3  0c275fa49e292b2f9a9bf9f7cbd83d1351fdd80f    M           1985  Einstein\n",
       "4  b08928a65064fb16e2b2ce347949a485fc52cd75    M           1973  Einstein"
      ]
     },
     "execution_count": 4,
     "metadata": {},
     "output_type": "execute_result"
    }
   ],
   "source": [
    "pacientes.head()"
   ]
  },
  {
   "cell_type": "code",
   "execution_count": 5,
   "metadata": {},
   "outputs": [],
   "source": [
    "exames = pd.read_csv('dados/exames.csv')"
   ]
  },
  {
   "cell_type": "code",
   "execution_count": 6,
   "metadata": {},
   "outputs": [
    {
     "data": {
      "text/html": [
       "<div>\n",
       "<style scoped>\n",
       "    .dataframe tbody tr th:only-of-type {\n",
       "        vertical-align: middle;\n",
       "    }\n",
       "\n",
       "    .dataframe tbody tr th {\n",
       "        vertical-align: top;\n",
       "    }\n",
       "\n",
       "    .dataframe thead th {\n",
       "        text-align: right;\n",
       "    }\n",
       "</style>\n",
       "<table border=\"1\" class=\"dataframe\">\n",
       "  <thead>\n",
       "    <tr style=\"text-align: right;\">\n",
       "      <th></th>\n",
       "      <th>ID_Paciente</th>\n",
       "      <th>Data_Coleta</th>\n",
       "      <th>Origem</th>\n",
       "      <th>Exame</th>\n",
       "      <th>Analito</th>\n",
       "      <th>Resultado</th>\n",
       "      <th>Unidade</th>\n",
       "      <th>Valor_Referencia</th>\n",
       "      <th>Hospital</th>\n",
       "    </tr>\n",
       "  </thead>\n",
       "  <tbody>\n",
       "    <tr>\n",
       "      <th>0</th>\n",
       "      <td>1d71815e54f30ce277422dbc238ef116b23a383f</td>\n",
       "      <td>15/05/2020</td>\n",
       "      <td>HOSP</td>\n",
       "      <td>Hemograma Contagem Auto</td>\n",
       "      <td>Basófilos #</td>\n",
       "      <td>20</td>\n",
       "      <td>µL</td>\n",
       "      <td>0 a 100</td>\n",
       "      <td>Einstein</td>\n",
       "    </tr>\n",
       "    <tr>\n",
       "      <th>1</th>\n",
       "      <td>d9775c209fc86373ea7eeb164e06944eac2ea73f</td>\n",
       "      <td>14/04/2020</td>\n",
       "      <td>HOSP</td>\n",
       "      <td>Urina Tipo I</td>\n",
       "      <td>Nitrito</td>\n",
       "      <td>Negativo</td>\n",
       "      <td>NaN</td>\n",
       "      <td>Negativo</td>\n",
       "      <td>Einstein</td>\n",
       "    </tr>\n",
       "    <tr>\n",
       "      <th>2</th>\n",
       "      <td>d9775c209fc86373ea7eeb164e06944eac2ea73f</td>\n",
       "      <td>07/04/2020</td>\n",
       "      <td>HOSP</td>\n",
       "      <td>Hemograma Contagem Auto</td>\n",
       "      <td>Neutrófilos</td>\n",
       "      <td>96.0</td>\n",
       "      <td>%</td>\n",
       "      <td>NaN</td>\n",
       "      <td>Einstein</td>\n",
       "    </tr>\n",
       "    <tr>\n",
       "      <th>3</th>\n",
       "      <td>d9775c209fc86373ea7eeb164e06944eac2ea73f</td>\n",
       "      <td>09/04/2020</td>\n",
       "      <td>HOSP</td>\n",
       "      <td>Gasometria Venosa</td>\n",
       "      <td>Saturação da Hb (gasometria venosa)</td>\n",
       "      <td>97.8</td>\n",
       "      <td>%</td>\n",
       "      <td>40.0 a 70.0</td>\n",
       "      <td>Einstein</td>\n",
       "    </tr>\n",
       "    <tr>\n",
       "      <th>4</th>\n",
       "      <td>d9775c209fc86373ea7eeb164e06944eac2ea73f</td>\n",
       "      <td>13/04/2020</td>\n",
       "      <td>HOSP</td>\n",
       "      <td>Diferencial Manual</td>\n",
       "      <td>Monócitos #</td>\n",
       "      <td>1673</td>\n",
       "      <td>µL</td>\n",
       "      <td>300 a 900</td>\n",
       "      <td>Einstein</td>\n",
       "    </tr>\n",
       "  </tbody>\n",
       "</table>\n",
       "</div>"
      ],
      "text/plain": [
       "                                ID_Paciente Data_Coleta Origem  \\\n",
       "0  1d71815e54f30ce277422dbc238ef116b23a383f  15/05/2020   HOSP   \n",
       "1  d9775c209fc86373ea7eeb164e06944eac2ea73f  14/04/2020   HOSP   \n",
       "2  d9775c209fc86373ea7eeb164e06944eac2ea73f  07/04/2020   HOSP   \n",
       "3  d9775c209fc86373ea7eeb164e06944eac2ea73f  09/04/2020   HOSP   \n",
       "4  d9775c209fc86373ea7eeb164e06944eac2ea73f  13/04/2020   HOSP   \n",
       "\n",
       "                     Exame                              Analito Resultado  \\\n",
       "0  Hemograma Contagem Auto                          Basófilos #        20   \n",
       "1             Urina Tipo I                              Nitrito  Negativo   \n",
       "2  Hemograma Contagem Auto                          Neutrófilos      96.0   \n",
       "3        Gasometria Venosa  Saturação da Hb (gasometria venosa)      97.8   \n",
       "4       Diferencial Manual                          Monócitos #      1673   \n",
       "\n",
       "  Unidade Valor_Referencia  Hospital  \n",
       "0      µL          0 a 100  Einstein  \n",
       "1     NaN         Negativo  Einstein  \n",
       "2       %              NaN  Einstein  \n",
       "3       %      40.0 a 70.0  Einstein  \n",
       "4      µL        300 a 900  Einstein  "
      ]
     },
     "execution_count": 6,
     "metadata": {},
     "output_type": "execute_result"
    }
   ],
   "source": [
    "exames.head()"
   ]
  },
  {
   "cell_type": "code",
   "execution_count": 9,
   "metadata": {},
   "outputs": [
    {
     "data": {
      "text/plain": [
       "1260"
      ]
     },
     "execution_count": 9,
     "metadata": {},
     "output_type": "execute_result"
    }
   ],
   "source": [
    "len(exames.Exame.unique())"
   ]
  },
  {
   "cell_type": "code",
   "execution_count": null,
   "metadata": {},
   "outputs": [],
   "source": []
  }
 ],
 "metadata": {
  "kernelspec": {
   "display_name": "Python 3",
   "language": "python",
   "name": "python3"
  },
  "language_info": {
   "codemirror_mode": {
    "name": "ipython",
    "version": 3
   },
   "file_extension": ".py",
   "mimetype": "text/x-python",
   "name": "python",
   "nbconvert_exporter": "python",
   "pygments_lexer": "ipython3",
   "version": "3.8.3"
  }
 },
 "nbformat": 4,
 "nbformat_minor": 4
}
